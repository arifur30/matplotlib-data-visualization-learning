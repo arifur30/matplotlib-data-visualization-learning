{
 "cells": [
  {
   "cell_type": "markdown",
   "id": "26eba578",
   "metadata": {
    "papermill": {
     "duration": 0.002532,
     "end_time": "2025-03-20T08:28:48.732308",
     "exception": false,
     "start_time": "2025-03-20T08:28:48.729776",
     "status": "completed"
    },
    "tags": []
   },
   "source": [
    "# Creating Histogram"
   ]
  },
  {
   "cell_type": "code",
   "execution_count": 1,
   "id": "ca9270bd",
   "metadata": {
    "execution": {
     "iopub.execute_input": "2025-03-20T08:28:48.738647Z",
     "iopub.status.busy": "2025-03-20T08:28:48.738133Z",
     "iopub.status.idle": "2025-03-20T08:28:49.715238Z",
     "shell.execute_reply": "2025-03-20T08:28:49.714213Z"
    },
    "papermill": {
     "duration": 0.982388,
     "end_time": "2025-03-20T08:28:49.717227",
     "exception": false,
     "start_time": "2025-03-20T08:28:48.734839",
     "status": "completed"
    },
    "tags": []
   },
   "outputs": [],
   "source": [
    "import numpy as np\n",
    "import matplotlib.pyplot as plt\n",
    "\n",
    "# Ensure matplotlib plots show in the notebook\n",
    "%matplotlib inline\n",
    "\n",
    "import pandas as pd"
   ]
  },
  {
   "cell_type": "code",
   "execution_count": 2,
   "id": "73798aca",
   "metadata": {
    "execution": {
     "iopub.execute_input": "2025-03-20T08:28:49.723071Z",
     "iopub.status.busy": "2025-03-20T08:28:49.722605Z",
     "iopub.status.idle": "2025-03-20T08:28:49.783073Z",
     "shell.execute_reply": "2025-03-20T08:28:49.782112Z"
    },
    "papermill": {
     "duration": 0.065248,
     "end_time": "2025-03-20T08:28:49.784853",
     "exception": false,
     "start_time": "2025-03-20T08:28:49.719605",
     "status": "completed"
    },
    "tags": []
   },
   "outputs": [
    {
     "data": {
      "text/html": [
       "<div>\n",
       "<style scoped>\n",
       "    .dataframe tbody tr th:only-of-type {\n",
       "        vertical-align: middle;\n",
       "    }\n",
       "\n",
       "    .dataframe tbody tr th {\n",
       "        vertical-align: top;\n",
       "    }\n",
       "\n",
       "    .dataframe thead th {\n",
       "        text-align: right;\n",
       "    }\n",
       "</style>\n",
       "<table border=\"1\" class=\"dataframe\">\n",
       "  <thead>\n",
       "    <tr style=\"text-align: right;\">\n",
       "      <th></th>\n",
       "      <th>id</th>\n",
       "      <th>competitorname</th>\n",
       "      <th>chocolate</th>\n",
       "      <th>fruity</th>\n",
       "      <th>caramel</th>\n",
       "      <th>peanutyalmondy</th>\n",
       "      <th>nougat</th>\n",
       "      <th>crispedricewafer</th>\n",
       "      <th>hard</th>\n",
       "      <th>bar</th>\n",
       "      <th>pluribus</th>\n",
       "      <th>sugarpercent</th>\n",
       "      <th>pricepercent</th>\n",
       "      <th>winpercent</th>\n",
       "    </tr>\n",
       "  </thead>\n",
       "  <tbody>\n",
       "    <tr>\n",
       "      <th>0</th>\n",
       "      <td>0</td>\n",
       "      <td>100 Grand</td>\n",
       "      <td>Yes</td>\n",
       "      <td>No</td>\n",
       "      <td>Yes</td>\n",
       "      <td>No</td>\n",
       "      <td>No</td>\n",
       "      <td>Yes</td>\n",
       "      <td>No</td>\n",
       "      <td>Yes</td>\n",
       "      <td>No</td>\n",
       "      <td>0.732</td>\n",
       "      <td>0.860</td>\n",
       "      <td>66.971725</td>\n",
       "    </tr>\n",
       "    <tr>\n",
       "      <th>1</th>\n",
       "      <td>1</td>\n",
       "      <td>3 Musketeers</td>\n",
       "      <td>Yes</td>\n",
       "      <td>No</td>\n",
       "      <td>No</td>\n",
       "      <td>No</td>\n",
       "      <td>Yes</td>\n",
       "      <td>No</td>\n",
       "      <td>No</td>\n",
       "      <td>Yes</td>\n",
       "      <td>No</td>\n",
       "      <td>0.604</td>\n",
       "      <td>0.511</td>\n",
       "      <td>67.602936</td>\n",
       "    </tr>\n",
       "    <tr>\n",
       "      <th>2</th>\n",
       "      <td>2</td>\n",
       "      <td>Air Heads</td>\n",
       "      <td>No</td>\n",
       "      <td>Yes</td>\n",
       "      <td>No</td>\n",
       "      <td>No</td>\n",
       "      <td>No</td>\n",
       "      <td>No</td>\n",
       "      <td>No</td>\n",
       "      <td>No</td>\n",
       "      <td>No</td>\n",
       "      <td>0.906</td>\n",
       "      <td>0.511</td>\n",
       "      <td>52.341465</td>\n",
       "    </tr>\n",
       "    <tr>\n",
       "      <th>3</th>\n",
       "      <td>3</td>\n",
       "      <td>Almond Joy</td>\n",
       "      <td>Yes</td>\n",
       "      <td>No</td>\n",
       "      <td>No</td>\n",
       "      <td>Yes</td>\n",
       "      <td>No</td>\n",
       "      <td>No</td>\n",
       "      <td>No</td>\n",
       "      <td>Yes</td>\n",
       "      <td>No</td>\n",
       "      <td>0.465</td>\n",
       "      <td>0.767</td>\n",
       "      <td>50.347546</td>\n",
       "    </tr>\n",
       "    <tr>\n",
       "      <th>4</th>\n",
       "      <td>4</td>\n",
       "      <td>Baby Ruth</td>\n",
       "      <td>Yes</td>\n",
       "      <td>No</td>\n",
       "      <td>Yes</td>\n",
       "      <td>Yes</td>\n",
       "      <td>Yes</td>\n",
       "      <td>No</td>\n",
       "      <td>No</td>\n",
       "      <td>Yes</td>\n",
       "      <td>No</td>\n",
       "      <td>0.604</td>\n",
       "      <td>0.767</td>\n",
       "      <td>56.914547</td>\n",
       "    </tr>\n",
       "  </tbody>\n",
       "</table>\n",
       "</div>"
      ],
      "text/plain": [
       "   id competitorname chocolate fruity caramel peanutyalmondy nougat  \\\n",
       "0   0      100 Grand       Yes     No     Yes             No     No   \n",
       "1   1   3 Musketeers       Yes     No      No             No    Yes   \n",
       "2   2      Air Heads        No    Yes      No             No     No   \n",
       "3   3     Almond Joy       Yes     No      No            Yes     No   \n",
       "4   4      Baby Ruth       Yes     No     Yes            Yes    Yes   \n",
       "\n",
       "  crispedricewafer hard  bar pluribus  sugarpercent  pricepercent  winpercent  \n",
       "0              Yes   No  Yes       No         0.732         0.860   66.971725  \n",
       "1               No   No  Yes       No         0.604         0.511   67.602936  \n",
       "2               No   No   No       No         0.906         0.511   52.341465  \n",
       "3               No   No  Yes       No         0.465         0.767   50.347546  \n",
       "4               No   No  Yes       No         0.604         0.767   56.914547  "
      ]
     },
     "execution_count": 2,
     "metadata": {},
     "output_type": "execute_result"
    }
   ],
   "source": [
    "data = pd.read_csv('/kaggle/input/data-for-datavis/candy.csv')\n",
    "data.head()\n"
   ]
  },
  {
   "cell_type": "code",
   "execution_count": 3,
   "id": "91170960",
   "metadata": {
    "execution": {
     "iopub.execute_input": "2025-03-20T08:28:49.790634Z",
     "iopub.status.busy": "2025-03-20T08:28:49.790240Z",
     "iopub.status.idle": "2025-03-20T08:28:50.044048Z",
     "shell.execute_reply": "2025-03-20T08:28:50.043124Z"
    },
    "papermill": {
     "duration": 0.258543,
     "end_time": "2025-03-20T08:28:50.045887",
     "exception": false,
     "start_time": "2025-03-20T08:28:49.787344",
     "status": "completed"
    },
    "tags": []
   },
   "outputs": [
    {
     "data": {
      "image/png": "[encoded data removed]",
      "text/plain": [
       "<Figure size 640x480 with 1 Axes>"
      ]
     },
     "metadata": {},
     "output_type": "display_data"
    }
   ],
   "source": [
    "x = list(data['winpercent'])\n",
    "y = list(data['pricepercent'])\n",
    "z = list(data['sugarpercent'])\n",
    "\n",
    "plt.hist(x,bins = [0,20, 40, 60, 80, 100])\n",
    "\n",
    "plt.show()\n"
   ]
  },
  {
   "cell_type": "markdown",
   "id": "e85277cd",
   "metadata": {
    "papermill": {
     "duration": 0.002338,
     "end_time": "2025-03-20T08:28:50.051073",
     "exception": false,
     "start_time": "2025-03-20T08:28:50.048735",
     "status": "completed"
    },
    "tags": []
   },
   "source": [
    "# Customizing the Histogram\n"
   ]
  },
  {
   "cell_type": "code",
   "execution_count": 4,
   "id": "ee60fb7b",
   "metadata": {
    "execution": {
     "iopub.execute_input": "2025-03-20T08:28:50.057404Z",
     "iopub.status.busy": "2025-03-20T08:28:50.057042Z",
     "iopub.status.idle": "2025-03-20T08:28:50.267867Z",
     "shell.execute_reply": "2025-03-20T08:28:50.266666Z"
    },
    "papermill": {
     "duration": 0.21586,
     "end_time": "2025-03-20T08:28:50.269484",
     "exception": false,
     "start_time": "2025-03-20T08:28:50.053624",
     "status": "completed"
    },
    "tags": []
   },
   "outputs": [
    {
     "data": {
      "image/png": "[encoded data removed]",
      "text/plain": [
       "<Figure size 640x480 with 1 Axes>"
      ]
     },
     "metadata": {},
     "output_type": "display_data"
    }
   ],
   "source": [
    "x = list(data['winpercent'])\n",
    "\n",
    "plt.hist(x,bins = [0,20, 40, 60, 80, 100])\n",
    "\n",
    "\n",
    "# adding title, label\n",
    "\n",
    "plt.title('Histogram Demo')\n",
    "plt.xlabel('Bins range')\n",
    "plt.ylabel('Frequency')\n",
    "\n",
    "plt.legend(['x'])\n",
    "\n",
    "plt.show()"
   ]
  }
 ],
 "metadata": {
  "kaggle": {
   "accelerator": "none",
   "dataSources": [
    {
     "datasetId": 3371927,
     "sourceId": 5864337,
     "sourceType": "datasetVersion"
    },
    {
     "sourceId": 126573713,
     "sourceType": "kernelVersion"
    }
   ],
   "dockerImageVersionId": 30918,
   "isGpuEnabled": false,
   "isInternetEnabled": false,
   "language": "python",
   "sourceType": "notebook"
  },
  "kernelspec": {
   "display_name": "Python 3",
   "language": "python",
   "name": "python3"
  },
  "language_info": {
   "codemirror_mode": {
    "name": "ipython",
    "version": 3
   },
   "file_extension": ".py",
   "mimetype": "text/x-python",
   "name": "python",
   "nbconvert_exporter": "python",
   "pygments_lexer": "ipython3",
   "version": "3.10.12"
  },
  "papermill": {
   "default_parameters": {},
   "duration": 5.038572,
   "end_time": "2025-03-20T08:28:50.892835",
   "environment_variables": {},
   "exception": null,
   "input_path": "__notebook__.ipynb",
   "output_path": "__notebook__.ipynb",
   "parameters": {},
   "start_time": "2025-03-20T08:28:45.854263",
   "version": "2.6.0"
  }
 },
 "nbformat": 4,
 "nbformat_minor": 5
}
